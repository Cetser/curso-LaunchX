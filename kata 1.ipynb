{
 "cells": [
  {
   "cell_type": "code",
   "execution_count": 23,
   "metadata": {},
   "outputs": [
    {
     "name": "stdout",
     "output_type": "stream",
     "text": [
      "La fecha de hoy es: \n",
      "2022-02-11\n",
      "la fecha de hoy es : 2022-02-11\n"
     ]
    }
   ],
   "source": [
    "from datetime import date\n",
    "\n",
    "print(\"La fecha de hoy es: \")\n",
    "date.today()\n",
    "print(date.today())\n",
    "print(\"la fecha de hoy es : \" + str(date.today()))\n"
   ]
  },
  {
   "cell_type": "markdown",
   "metadata": {},
   "source": [
    "## convertidor de unidades \n",
    "a continuacion se elaborara un converidor de acuerdo al contenido de la kata 1"
   ]
  },
  {
   "cell_type": "code",
   "execution_count": 28,
   "metadata": {},
   "outputs": [
    {
     "name": "stdout",
     "output_type": "stream",
     "text": [
      "10 parsec, son  32.6156 años luz\n"
     ]
    }
   ],
   "source": [
    "parsec = 10\n",
    "lightyears = 3.26156 * parsec\n",
    "\n",
    "print(str(parsec) + \" parsec, son  \" + str(lightyears) + \" años luz\")"
   ]
  },
  {
   "cell_type": "markdown",
   "metadata": {},
   "source": [
    "## Ingresar datos del usuario\n",
    "\n",
    "A continuacion se realizaran entradas de datos dictadas por el usuario"
   ]
  },
  {
   "cell_type": "code",
   "execution_count": 39,
   "metadata": {},
   "outputs": [
    {
     "name": "stdout",
     "output_type": "stream",
     "text": [
      "Bienvenido a mi programa de inicio viajero\n",
      "Mucho gusto en saludarte: cesar\n"
     ]
    }
   ],
   "source": [
    "print(\"Bienvenido a mi programa de inicio viajero\")\n",
    "name = input()\n",
    "print(\"Mucho gusto en saludarte: \" + name)"
   ]
  },
  {
   "cell_type": "code",
   "execution_count": 44,
   "metadata": {},
   "outputs": [
    {
     "name": "stdout",
     "output_type": "stream",
     "text": [
      "Bienvenido a Calculadora\n",
      "realicemos una suma\n",
      "6585767269150871067\n"
     ]
    }
   ],
   "source": [
    "print(\"Bienvenido a Calculadora\")\n",
    "print(\"realicemos una suma\")\n",
    "first_number = input(\"Ingresa el primer número: \")\n",
    "second_number = input(\"Ingresa el segundo número: \")\n",
    "print(int(first_number) + int(second_number))"
   ]
  },
  {
   "cell_type": "markdown",
   "metadata": {},
   "source": [
    "## Fin de la kata 1 modulo 1\n",
    "Gracias por ver el avance de mi trabajo"
   ]
  }
 ],
 "metadata": {
  "interpreter": {
   "hash": "e5b04402d85c55ee7338cabf5cac3bf307780a4b2de2e10b45514d8cb474da4d"
  },
  "kernelspec": {
   "display_name": "Python 3.9.10 64-bit (windows store)",
   "language": "python",
   "name": "python3"
  },
  "language_info": {
   "codemirror_mode": {
    "name": "ipython",
    "version": 3
   },
   "file_extension": ".py",
   "mimetype": "text/x-python",
   "name": "python",
   "nbconvert_exporter": "python",
   "pygments_lexer": "ipython3",
   "version": "3.9.10"
  },
  "orig_nbformat": 4
 },
 "nbformat": 4,
 "nbformat_minor": 2
}
